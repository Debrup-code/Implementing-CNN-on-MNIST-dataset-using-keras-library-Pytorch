{
  "nbformat": 4,
  "nbformat_minor": 0,
  "metadata": {
    "colab": {
      "provenance": []
    },
    "kernelspec": {
      "name": "python3",
      "display_name": "Python 3"
    },
    "language_info": {
      "name": "python"
    }
  },
  "cells": [
    {
      "cell_type": "code",
      "execution_count": null,
      "metadata": {
        "id": "uK5UYHYS46sm"
      },
      "outputs": [],
      "source": [
        "import numpy as np\n",
        "import pandas as pd\n",
        "from tqdm import tqdm\n",
        "from keras.datasets import mnist"
      ]
    },
    {
      "cell_type": "code",
      "source": [
        "(x_train, y_train), (x_test, y_test)= mnist.load_data()   #loading the mnist dataset\n",
        "\n",
        "#extracting thhe first 200 datasets\n",
        "x_train=x_train[:200]\n",
        "y=y_train[:200]\n",
        "\n",
        "X=x_train.T\n",
        "X=X/255\n",
        "\n",
        "y.resize((200,1))\n",
        "y=y.T\n",
        "\n",
        "#checking the value\n",
        "pd.Series(y[0]).value_counts()\n",
        "#print(y)\n",
        "#for i in range(y.shape[1]):\n",
        "#  print(y[0][i])"
      ],
      "metadata": {
        "colab": {
          "base_uri": "https://localhost:8080/"
        },
        "id": "Jyks2oiP5gSp",
        "outputId": "505527cc-8674-4bf1-b511-4cca8de6c3f1"
      },
      "execution_count": null,
      "outputs": [
        {
          "output_type": "stream",
          "name": "stdout",
          "text": [
            "Downloading data from https://storage.googleapis.com/tensorflow/tf-keras-datasets/mnist.npz\n",
            "11490434/11490434 [==============================] - 0s 0us/step\n"
          ]
        },
        {
          "output_type": "execute_result",
          "data": {
            "text/plain": [
              "1    26\n",
              "9    23\n",
              "0    21\n",
              "4    21\n",
              "3    21\n",
              "7    21\n",
              "2    20\n",
              "6    19\n",
              "8    15\n",
              "5    13\n",
              "Name: count, dtype: int64"
            ]
          },
          "metadata": {},
          "execution_count": 2
        }
      ]
    },
    {
      "cell_type": "code",
      "source": [
        "#for now focusing on binary classification, to boiuld a simple CNN model, we reduce the image classification from 10 to 2\n",
        "for i in range(y.shape[1]):\n",
        "  if y[0][i]>4:\n",
        "    y[0][i]=1\n",
        "  else:\n",
        "    y[0][i]=0\n",
        "\n",
        "#checking value counts\n",
        "pd.Series(y[0]).value_counts()\n"
      ],
      "metadata": {
        "colab": {
          "base_uri": "https://localhost:8080/"
        },
        "id": "QoU63kEpFWx1",
        "outputId": "bbb0bd59-7de6-4552-a90f-237630f15d36"
      },
      "execution_count": null,
      "outputs": [
        {
          "output_type": "execute_result",
          "data": {
            "text/plain": [
              "0    109\n",
              "1     91\n",
              "Name: count, dtype: int64"
            ]
          },
          "metadata": {},
          "execution_count": 3
        }
      ]
    },
    {
      "cell_type": "code",
      "source": [
        "#initializing filters for the Convolution operation\n",
        "\n",
        "f=np.random.uniform(size=(3,5,5))   #initializing 3 filters of size 5*5 each\n",
        "f=f.T\n",
        "\n",
        "print(\"Filter 0 : \",f[:,:,0],\"\\n\")\n",
        "print(\"Filter 1 : \",f[:,:,1],\"\\n\")\n",
        "print(\"Filter 2 : \",f[:,:,2],\"\\n\")\n"
      ],
      "metadata": {
        "colab": {
          "base_uri": "https://localhost:8080/"
        },
        "id": "jyLtYEQDG1Rs",
        "outputId": "969b9ec8-0d6b-4015-bb39-38408144cfa1"
      },
      "execution_count": null,
      "outputs": [
        {
          "output_type": "stream",
          "name": "stdout",
          "text": [
            "Filter 0 :  [[0.4970819  0.71673656 0.68141476 0.59510527 0.75430646]\n",
            " [0.91231764 0.87897867 0.19880604 0.22487079 0.68016757]\n",
            " [0.58056206 0.83498207 0.48785284 0.47321288 0.33883627]\n",
            " [0.70134175 0.41861151 0.66518366 0.36022595 0.77705185]\n",
            " [0.72752874 0.48218567 0.45374494 0.67220869 0.64948046]] \n",
            "\n",
            "Filter 1 :  [[0.01331843 0.48599699 0.55191866 0.27116776 0.52399978]\n",
            " [0.95180725 0.52231024 0.46591604 0.57614826 0.63137289]\n",
            " [0.6899153  0.42577856 0.10499971 0.40997173 0.60731725]\n",
            " [0.26767731 0.00697886 0.40372564 0.75871476 0.39336882]\n",
            " [0.97419343 0.97169289 0.64297878 0.87972592 0.1846455 ]] \n",
            "\n",
            "Filter 2 :  [[0.51415549 0.75251689 0.86908479 0.86571155 0.14186552]\n",
            " [0.41069853 0.44624416 0.4851618  0.50163491 0.67955524]\n",
            " [0.79145484 0.00476469 0.85494318 0.67570775 0.54290798]\n",
            " [0.09748014 0.8797803  0.68665977 0.05576663 0.60977245]\n",
            " [0.37400345 0.30516894 0.74584607 0.89428146 0.87353958]] \n",
            "\n"
          ]
        }
      ]
    },
    {
      "cell_type": "code",
      "source": [
        "X.shape, y.shape, f.shape #According to its o/p, for each of the 200 28*28 images, we have one class specified, thus dimennsion if y(1,200),\n",
        "                          # we implement it using 3 filters of 5*5 dimensions"
      ],
      "metadata": {
        "colab": {
          "base_uri": "https://localhost:8080/"
        },
        "id": "X7l1pT41IGi2",
        "outputId": "1ecdab04-3912-4878-fbd2-0fa015039aa3"
      },
      "execution_count": null,
      "outputs": [
        {
          "output_type": "execute_result",
          "data": {
            "text/plain": [
              "((28, 28, 200), (1, 200), (5, 5, 3))"
            ]
          },
          "metadata": {},
          "execution_count": 5
        }
      ]
    },
    {
      "cell_type": "code",
      "source": [
        "#for the image filter convolution we divide the image into multiple patces\n",
        "#here we pass the filter for  convolution\n",
        "\n",
        "new_img=[]\n",
        "\n",
        "#for number of images\n",
        "for k in range(X.shape[2]):\n",
        "  #sliding the filter in horizontal direction\n",
        "  for i in range(X.shape[0]-f.shape[0]+1):\n",
        "    #sliding the filter in vertical direction\n",
        "    for j in range(X.shape[1]-f.shape[1]+1):\n",
        "      new_img.append(X[:,:,k][i:i+f.shape[0],j:j+f.shape[1]])\n",
        "\n",
        "#resize the generated patches as per number of images\n",
        "new_img=np.array(new_img)\n",
        "new_img.resize((X.shape[2],int(new_img.shape[0]/X.shape[2]),new_img.shape[1],new_img.shape[2]))\n",
        "new_img.shape\n"
      ],
      "metadata": {
        "colab": {
          "base_uri": "https://localhost:8080/"
        },
        "id": "axCYQ7nQI0lr",
        "outputId": "b2dfbe43-9140-4214-a842-547f5a065b93"
      },
      "execution_count": null,
      "outputs": [
        {
          "output_type": "execute_result",
          "data": {
            "text/plain": [
              "(200, 576, 5, 5)"
            ]
          },
          "metadata": {},
          "execution_count": 6
        }
      ]
    },
    {
      "cell_type": "code",
      "source": [
        "import matplotlib.pyplot as plt\n",
        "i=0\n",
        "plt.subplot(221), plt.imshow(x_train[i])\n",
        "i+=2\n",
        "plt.subplot(222), plt.imshow(x_train[i])\n",
        "i+=2\n",
        "plt.subplot(223), plt.imshow(x_train[i])\n",
        "i+=2\n",
        "plt.subplot(224), plt.imshow(x_train[i])"
      ],
      "metadata": {
        "colab": {
          "base_uri": "https://localhost:8080/",
          "height": 449
        },
        "id": "0IxstMbAFNdc",
        "outputId": "ff5595ee-9c56-4c3b-bb32-279784b6703f"
      },
      "execution_count": null,
      "outputs": [
        {
          "output_type": "execute_result",
          "data": {
            "text/plain": [
              "(<Axes: >, <matplotlib.image.AxesImage at 0x7c3511b4d540>)"
            ]
          },
          "metadata": {},
          "execution_count": 41
        },
        {
          "output_type": "display_data",
          "data": {
            "text/plain": [
              "<Figure size 640x480 with 4 Axes>"
            ],
            "image/png": "[encoded data removed]"
          },
          "metadata": {}
        }
      ]
    },
    {
      "cell_type": "code",
      "source": [
        "#now, moving up with forward  propagation\n",
        "#number of features in the data set\n",
        "\n",
        "s_row=X.shape[0]-f.shape[0] +1\n",
        "s_col=X.shape[1]-f.shape[1] +1\n",
        "\n",
        "num_filter=f.shape[2]\n",
        "input_layer_neurons=(s_row)*(s_col)*num_filter\n",
        "output_layer_neurons=1\n",
        "\n",
        "#initialize weight\n",
        "w=np.random.uniform(size=(input_layer_neurons,output_layer_neurons))\n"
      ],
      "metadata": {
        "id": "FJMDf-dxL7FG"
      },
      "execution_count": null,
      "outputs": []
    },
    {
      "cell_type": "code",
      "source": [
        "#defining the Sigmoid Function\n",
        "def sigmoid (x):\n",
        "  return 1/(1 + np.exp(-x))\n",
        "# derivative of Sigmoid Function\n",
        "def derivatives_sigmoid(x):\n",
        "  return x*(1-x)"
      ],
      "metadata": {
        "id": "_z8YZv8YONPB"
      },
      "execution_count": null,
      "outputs": []
    },
    {
      "cell_type": "code",
      "source": [
        "# generating output of convolution layer\n",
        "filter_output = []\n",
        "# for each image\n",
        "for i in range(len(new_img)):\n",
        "\n",
        "  # apply each filter\n",
        "  for k in range(f.shape[2]):\n",
        "    # do element wise multiplication\n",
        "    for j in range(new_img.shape[1]):\n",
        "      filter_output.append((new_img[i][j]*f[:,:,k]).sum())\n",
        "\n",
        "filter_output = np.resize(np.array (filter_output), (len(new_img), f.shape[2], new_img.shape[1]))\n",
        "# applying activation over convolution output to introduce non-linearity to the data\n",
        "# what is the use of activation function\n",
        "'''\n",
        "The activation function decides whether a neuron should be activated or not by calculating the weighted sum and further adding bias to it.\n",
        "The purpose of the activation function is to introduce non-linearity into the output of a neuron.\n",
        "\n",
        "Explanation: We know, the neural network has neurons that work in correspondence with weight, bias, and their respective activation function.\n",
        "In a neural network, we would update the weights and biases of the neurons on the basis of the error at the output. This process is known as\n",
        "back-propagation. Activation functions make the back-propagation possible since the gradients are supplied along with the error to update the\n",
        "weights and biases.\n",
        "'''\n",
        "#thus here the activation function is implemented via sigmoid function i.e. f(x)=1/(1+e^(-x))\n",
        "filter_output_sigmoid=sigmoid(filter_output)\n",
        "\n",
        "filter_output.shape, filter_output_sigmoid.shape"
      ],
      "metadata": {
        "colab": {
          "base_uri": "https://localhost:8080/"
        },
        "id": "voOHifjtOnBr",
        "outputId": "d241b08f-a204-4b25-e148-b7a86544326d"
      },
      "execution_count": null,
      "outputs": [
        {
          "output_type": "execute_result",
          "data": {
            "text/plain": [
              "((200, 3, 576), (200, 3, 576))"
            ]
          },
          "metadata": {},
          "execution_count": 16
        }
      ]
    },
    {
      "cell_type": "code",
      "source": [
        "# generating input for fully connected layer\n",
        "filter_output_sigmoid = filter_output_sigmoid.reshape((\n",
        "    filter_output_sigmoid.shape[0],\n",
        "    filter_output_sigmoid.shape[1]*filter_output_sigmoid.shape[2]\n",
        "    ))\n",
        "filter_output_sigmoid = filter_output_sigmoid.T\n",
        "\n",
        "# Initialize weights for the fully connected layer - make sure the dimensions are correct!\n",
        "wo = np.random.uniform(size=(filter_output_sigmoid.shape[0], output_layer_neurons))\n",
        "\n",
        "#Linear trasnformation for fully Connected Layer\n",
        "output_layer_input=np.dot(wo.T, filter_output_sigmoid)\n",
        "output_layer_input=(output_layer_input - np.average(output_layer_input))/np.std(output_layer_input)\n",
        "#activation function\n",
        "output = sigmoid (output_layer_input)"
      ],
      "metadata": {
        "id": "h66xyDSjwBSx"
      },
      "execution_count": null,
      "outputs": []
    },
    {
      "cell_type": "code",
      "source": [
        "#Error\n",
        "error = np.square(y-output)/2\n",
        "\n",
        "#Error w.r.t Output (Gradient)\n",
        "error_wrt_output = -(y-output)\n",
        "#Error w.r.t sigmoid transformation (output_layer_input)\n",
        "output_wrt_output_layer_input=output*(1-output)\n",
        "\n",
        "#Error w.r.t weight\n",
        "output_wrt_w=filter_output_sigmoid"
      ],
      "metadata": {
        "id": "Lk-I6G4lBMgv"
      },
      "execution_count": null,
      "outputs": []
    },
    {
      "cell_type": "code",
      "source": [
        "#Error w.r.t sigmoid output\n",
        "output_layer_input_wrt_filter_output_sigmoid= wo.T\n",
        "#Error w.r.t sigmoid transformation\n",
        "filter_output_sigmoid_wrt_filter_output = filter_output_sigmoid*(1-filter_output_sigmoid)\n",
        "# calculating derivatives for backprop convolution\n",
        "error_wrt_filter_output = np.dot(output_layer_input_wrt_filter_output_sigmoid.T,\n",
        "                                 error_wrt_output*output_wrt_output_layer_input)*filter_output_sigmoid_wrt_filter_output\n",
        "error_wrt_filter_output = np.average (error_wrt_filter_output, axis=1)\n",
        "error_wrt_filter_output = np.resize(error_wrt_filter_output,\n",
        "(X.shape[0]-f.shape[0]+1, X.shape[1]-f.shape[1]+1, f.shape[2]))"
      ],
      "metadata": {
        "id": "XkPWNQ6JBYW_"
      },
      "execution_count": null,
      "outputs": []
    },
    {
      "cell_type": "code",
      "source": [
        "filter_update = []\n",
        "for i in range(f.shape[2]):\n",
        "  for j in range(f.shape[0]):\n",
        "    for k in range(f.shape[1]):\n",
        "      temp = 0\n",
        "      spos_row = j\n",
        "      spos_col = k\n",
        "      epos_row = spos_row + s_row\n",
        "      epos_col = spos_col + s_col\n",
        "      for l in range(X.shape[2]):\n",
        "        temp = temp + (X[spos_row: epos_row, spos_col: epos_col, l]*error_wrt_filter_output[:,:,i]).sum()\n",
        "        filter_update.append(temp/X.shape[2])\n",
        "filter_update_array = np.array (filter_update)\n",
        "filter_update_array = np.resize(filter_update_array, (f.shape[2], f.shape[0], f.shape[1]))"
      ],
      "metadata": {
        "id": "JgGg7LppCLct"
      },
      "execution_count": null,
      "outputs": []
    },
    {
      "cell_type": "code",
      "source": [
        "#now, having the gradient we use it to correct the error\n",
        "\n",
        "lr=0.05   #learning rate\n",
        "for i in range(f.shape[2]):\n",
        "  f[:,:,i]=f[:,:,i]-lr*filter_update_array[i]\n",
        "\n",
        "for i in range(f.shape[2]):\n",
        "  print(f[:,:,i])"
      ],
      "metadata": {
        "colab": {
          "base_uri": "https://localhost:8080/"
        },
        "id": "oZ_3m7XPC4A9",
        "outputId": "6cd7b6b2-8741-4b5f-879d-70e8347ebf83"
      },
      "execution_count": null,
      "outputs": [
        {
          "output_type": "stream",
          "name": "stdout",
          "text": [
            "[[0.49715282 0.71688589 0.68158939 0.59531489 0.75456853]\n",
            " [0.91264936 0.87935967 0.19927638 0.2253754  0.68071076]\n",
            " [0.58118655 0.83562533 0.48858554 0.47400535 0.33966529]\n",
            " [0.7022157  0.4195499  0.66618069 0.36125318 0.77810737]\n",
            " [0.72866687 0.48340252 0.45499112 0.6734899  0.6508066 ]]\n",
            "[[0.01474031 0.48745304 0.55348241 0.27282066 0.52568094]\n",
            " [0.95354372 0.52412944 0.46776565 0.57803321 0.63333027]\n",
            " [0.69190291 0.42783712 0.10713508 0.41216107 0.60955912]\n",
            " [0.26996359 0.00933014 0.40610765 0.76114046 0.39583199]\n",
            " [0.97671548 0.97426489 0.64559851 0.88238002 0.18738605]]\n",
            "[[0.51693934 0.7553994  0.87201669 0.8686745  0.14488515]\n",
            " [0.4137872  0.44942317 0.48838162 0.50493817 0.68289567]\n",
            " [0.79485907 0.00820228 0.85845301 0.67932238 0.54656903]\n",
            " [0.10116719 0.88352329 0.69043183 0.05959923 0.61368811]\n",
            " [0.377971   0.30916289 0.7498756  0.89835775 0.87767894]]\n"
          ]
        }
      ]
    }
  ]
}